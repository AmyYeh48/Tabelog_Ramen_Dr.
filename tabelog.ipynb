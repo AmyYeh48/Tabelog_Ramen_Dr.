{
 "cells": [
  {
   "cell_type": "markdown",
   "metadata": {},
   "source": [
    "# Get city names"
   ]
  },
  {
   "cell_type": "code",
   "execution_count": 1,
   "metadata": {},
   "outputs": [],
   "source": [
    "# -*- coding: utf-8 -*-"
   ]
  },
  {
   "cell_type": "code",
   "execution_count": 2,
   "metadata": {},
   "outputs": [],
   "source": [
    "import requests\n",
    "from bs4 import BeautifulSoup\n",
    "import lxml\n",
    "\n",
    "res = requests.get(\"https://tabelog.com/\")\n",
    "res.encoding = 'utf-8'\n",
    "soup = BeautifulSoup(res.text, 'lxml')\n",
    "city_name = []\n",
    "for b in soup.find_all('div', attrs={\"class\":\"rsttop-search__pref-container\"}):\n",
    "    for city in b.find_all('a'):\n",
    "        city_name.append(city.get(\"href\").split('/')[-2])"
   ]
  },
  {
   "cell_type": "code",
   "execution_count": 3,
   "metadata": {},
   "outputs": [
    {
     "data": {
      "text/plain": [
       "['hokkaido',\n",
       " 'aomori',\n",
       " 'akita',\n",
       " 'yamagata',\n",
       " 'iwate',\n",
       " 'miyagi',\n",
       " 'fukushima',\n",
       " 'tokyo',\n",
       " 'kanagawa',\n",
       " 'saitama',\n",
       " 'chiba',\n",
       " 'tochigi',\n",
       " 'ibaraki',\n",
       " 'gunma',\n",
       " 'aichi',\n",
       " 'gifu',\n",
       " 'shizuoka',\n",
       " 'mie',\n",
       " 'niigata',\n",
       " 'yamanashi',\n",
       " 'nagano',\n",
       " 'ishikawa',\n",
       " 'toyama',\n",
       " 'fukui',\n",
       " 'osaka',\n",
       " 'hyogo',\n",
       " 'kyoto',\n",
       " 'shiga',\n",
       " 'nara',\n",
       " 'wakayama',\n",
       " 'okayama',\n",
       " 'hiroshima',\n",
       " 'tottori',\n",
       " 'shimane',\n",
       " 'yamaguchi',\n",
       " 'kagawa',\n",
       " 'tokushima',\n",
       " 'ehime',\n",
       " 'kochi',\n",
       " 'fukuoka',\n",
       " 'saga',\n",
       " 'nagasaki',\n",
       " 'kumamoto',\n",
       " 'oita',\n",
       " 'miyazaki',\n",
       " 'kagoshima',\n",
       " 'okinawa']"
      ]
     },
     "execution_count": 3,
     "metadata": {},
     "output_type": "execute_result"
    }
   ],
   "source": [
    "city_name"
   ]
  },
  {
   "cell_type": "markdown",
   "metadata": {},
   "source": [
    "# Get Restaurant"
   ]
  },
  {
   "cell_type": "code",
   "execution_count": 4,
   "metadata": {},
   "outputs": [],
   "source": [
    "class Restaurant:\n",
    "    def __init__(self, rank, name, link, distance, rating):\n",
    "        self.rank = rank\n",
    "        self.name = name\n",
    "        self.link = link\n",
    "        self.distance = distance\n",
    "        self.rating = rating"
   ]
  },
  {
   "cell_type": "code",
   "execution_count": 14,
   "metadata": {},
   "outputs": [],
   "source": [
    "def parse_ramen_rank(soup):\n",
    "    res = []\n",
    "    for k in soup.find_all('div', attrs={\"class\": \"list-rst__wrap js-open-new-window\"}):\n",
    "        try:\n",
    "            rank = k.find('div', attrs={\"class\": \"list-rst__rst-name\"}).a.get('data-ranking')\n",
    "            name = k.find('div', attrs={\"class\": \"list-rst__rst-name\"}).a.get_text()\n",
    "            link = k.find('div', attrs={\"class\": \"list-rst__rst-name\"}).a.get('href')\n",
    "            distance = k.find('div', attrs={\"class\": \"list-rst__rst-name\"}).get_text().strip()\n",
    "            rating = k.find('span', attrs={\"class\": \"c-rating__val c-rating__val--strong list-rst__rating-val\"}).get_text()\n",
    "            res.append(Restaurant(int(rank), name, link, distance.replace(name+\" \",\"\").split(\" / \")[0], float(rating)))\n",
    "        except:\n",
    "            continue\n",
    "    return res"
   ]
  },
  {
   "cell_type": "code",
   "execution_count": 17,
   "metadata": {},
   "outputs": [],
   "source": [
    "city_name = ['hokkaido','aomori','akita','yamagata','iwate','miyagi','fukushima','tokyo','kanagawa',\n",
    "             'saitama','chiba','tochigi','ibaraki','gunma','aichi','gifu','shizuoka','mie','niigata',\n",
    "             'yamanashi','nagano','ishikawa','toyama','fukui','osaka','hyogo','kyoto','shiga','nara',\n",
    "             'wakayama','okayama','hiroshima','tottori','shimane','yamaguchi','kagawa','tokushima',\n",
    "             'ehime','kochi','fukuoka','saga','nagasaki','kumamoto','oita','miyazaki','kagoshima',\n",
    "             'okinawa']\n",
    "def get_ranked_restaurant(city):\n",
    "    import requests\n",
    "    from bs4 import BeautifulSoup\n",
    "    import lxml\n",
    "    rank_res = []\n",
    "    for i in range(1,6):\n",
    "        res = requests.get(\"https://tabelog.com/{}/rstLst/MC/{}/?Srt=D&SrtT=rt\".format(city,i))\n",
    "        res.encoding = 'utf-8'\n",
    "        soup = BeautifulSoup(res.text, 'lxml')\n",
    "        rank_res += parse_ramen_rank(soup)\n",
    "    return rank_res"
   ]
  },
  {
   "cell_type": "markdown",
   "metadata": {},
   "source": [
    "# Test Result "
   ]
  },
  {
   "cell_type": "code",
   "execution_count": 20,
   "metadata": {},
   "outputs": [
    {
     "name": "stdout",
     "output_type": "stream",
     "text": [
      "食べログ　ラーメンランキング\n",
      "1. らーめん鱗 茨木店: 茨木市駅 218m\n",
      "2. 麺や 而今: 鴻池新田駅 902m\n",
      "3. 麺や 紡: 宇野辺駅 527m\n",
      "4. 燃えよ 麺助: 福島駅 99m\n",
      "5. 人類みな麺類: 南方駅 44m\n",
      "6. 麺匠而今: 滝井駅 60m\n",
      "7. らーめん 弥七: 中津（大阪市営）駅 251m\n",
      "8. 麺屋彩々 昭和町本店: 昭和町駅 102m\n",
      "9. カドヤ食堂 本店: 西長堀駅 379m\n",
      "10. 烈志笑魚油 麺香房 三く: 新福島駅 137m\n",
      "11. This is 中川: 淡路駅 386m\n",
      "12. 麺や 福はら: 今里（近鉄）駅 350m\n",
      "13. 金久右衛門 本店: 深江橋駅 507m\n",
      "14. 群青: 天神橋筋六丁目駅 170m\n",
      "15. 麺屋 丈六: 難波（南海）駅 283m\n",
      "16. 中華蕎麦 葛: 本町駅 570m\n",
      "17. ふく流らーめん 轍 総本家: 寺田町駅 129m\n",
      "18. フスマにかけろ 中崎壱丁 中崎商店會1-6-18号ラーメン: 中崎町駅 129m\n",
      "19. くそオヤジ最後のひとふり: 十三駅 99m\n",
      "20. かしや: 玉出駅 266m\n",
      "21. らーめん 颯人: 南森町駅 228m\n",
      "22. 中華そば うえまち: 谷町六丁目駅 410m\n",
      "23. 彩色ラーメン きんせい総本家 夢風: 高槻市\n",
      "24. 自己流ラーメン綿麺: 松原市\n",
      "25. 極汁美麺 umami: 河内小阪駅 269m\n",
      "26. 中華そば 無限: 海老江駅 205m\n",
      "27. らーめんstyle JUNK STORY: 谷町九丁目駅 193m\n",
      "28. ラーメン人生 JET600: 玉造（ＪＲ）駅 165m\n",
      "29. 極麺 青二犀: 相川駅 848m\n",
      "30. 桐麺本店: 神崎川駅 852m\n",
      "31. ラーメン人生JET 福島本店: 福島駅 159m\n",
      "32. 烈火: 庄内駅 157m\n",
      "33. とんぴととりの光龍益: 桜ノ宮駅 236m\n",
      "34. 麺のようじ: 日本橋駅 493m\n",
      "35. 麺屋 はなぶさ: 堺筋本町駅 336m\n",
      "36. ストライク軒: 天神橋筋六丁目駅 181m\n",
      "37. ふく流らーめん 轍 本町本店: 本町駅 430m\n",
      "38. らーめん香澄 阿波座本店: 阿波座駅 487m\n",
      "39. 手打ち麺 やす田: 新大阪駅 356m\n",
      "40. 中華そば ムタヒロ 大阪福島店: 福島駅 139m\n",
      "41. 大阪麺哲: 東梅田駅 189m\n",
      "42. 中華そば いぶき: 天神橋筋六丁目駅 260m\n",
      "43. 三谷製麺所: 鶴橋駅 460m\n",
      "44. ラーメン坊也哲: 若江岩田駅 934m\n",
      "45. らーめん香澄 中崎町店: 中崎町駅 245m\n",
      "46. 城東烈火: 蒲生四丁目駅 165m\n",
      "47. らぁめん 真: 茨木駅 161m\n",
      "48. ラーメン而今 中之島フェスティバルプラザ店: 渡辺橋駅 105m\n",
      "49. 洛二神: 天神橋筋六丁目駅 247m\n",
      "50. 鶴麺 鶴見本店: 今福鶴見駅 545m\n",
      "51. Tsurumen 大阪城北詰店: 大阪城北詰駅 114m\n",
      "52. 中華そば 閃: あびこ駅 190m\n",
      "53. 石原ラ軍団: 堺市中区\n",
      "54. Ramen 辻: 谷町四丁目駅 152m\n",
      "55. ひのき屋: 野江内代駅 272m\n",
      "56. らぁ麺屋 はりねずみ: 高槻駅 622m\n",
      "57. 麺や 一想: 久宝寺口駅 26m\n",
      "58. 時屋: 西中島南方駅 318m\n",
      "59. みつ星製麺所 福島本店: 福島駅 287m\n",
      "60. 彩色ラーメンきんせい 高槻駅前店: 高槻市駅 147m\n",
      "61. 麺屋 えぐち: 江坂駅 490m\n",
      "62. 博多とんこつ 天神旗: 上新庄駅 248m\n",
      "63. 京都 麺屋たけ井 阪急梅田店: 梅田（阪急）駅 56m\n",
      "64. 麺と心 7: 阿倍野駅 407m\n",
      "65. カドヤ食堂 今福鶴見店: 今福鶴見駅 173m\n",
      "66. 座銀: 肥後橋駅 209m\n",
      "67. らーめん鱗 西中島店: 西中島南方駅 202m\n",
      "68. 麺哲: 豊中駅 340m\n",
      "69. 福島壱麺: 福島駅 100m\n",
      "70. 麺一盃: 塚本駅 155m\n",
      "71. 麺屋 八海山: 高槻駅 279m\n",
      "72. ラーメンZikon 四ツ橋店: 四ツ橋駅 171m\n",
      "73. だしが命の塩らーめん　ぎょぎょぎょ: 本町駅 515m\n",
      "74. 麺ゃ しき: 守口駅 70m\n",
      "75. 麺や マルショウ 豊中本店: 豊中駅 452m\n",
      "76. 麺や マルショウ 江坂店: 江坂駅 432m\n",
      "77. 縁乃助商店: 淡路駅 84m\n",
      "78. 丿貫: 布施駅 343m\n",
      "79. いちまるらーめん: 野田阪神駅 206m\n",
      "80. 西中島 光龍益: 西中島南方駅 275m\n",
      "81. 馬鹿坊: 天神橋筋六丁目駅 269m\n",
      "82. とりそばモリゾー: 肥後橋駅 148m\n",
      "83. 中華そば 堀川: 服部天神駅 125m\n",
      "84. 真鯛らぁー麺 日より: 森ノ宮駅 450m\n",
      "85. 麺や なないち: 茨木市駅 444m\n",
      "86. ラーメン哲史: 庄内駅 946m\n",
      "87. 別邸 三く 中華㐂蕎麦 萃: 新福島駅 235m\n",
      "88. 無鉄砲  大阪店: 今宮戎駅 129m\n",
      "89. 世界一暇なラーメン屋: 渡辺橋駅 134m\n",
      "90. らーめん 小僧: 新福島駅 162m\n",
      "91. 中村商店 高槻本店: 高槻駅 145m\n",
      "92. らーめん工房 RISE: 近鉄八尾駅 827m\n",
      "93. 醤油と貝と麺 そして人と夢: 塚本駅 155m\n",
      "94. マルショウ 新大阪店: 三国駅 695m\n",
      "95. 中華そばムタヒロ 堺東店: 堺東駅 145m\n",
      "96. 創作らーめん style林: 塚本駅 59m\n",
      "97. 麺や ひなた: 塚本駅 160m\n",
      "98. 総大醤: 天神橋筋六丁目駅 286m\n",
      "99. 金久右衛門 梅田店: 東梅田駅 376m\n",
      "100. 麺元素: 天満駅 242m\n"
     ]
    }
   ],
   "source": [
    "osaka_ramen = get_ranked_restaurant(city_name[24])\n",
    "print (\"食べログ　ラーメンランキング\")\n",
    "for restaurant in osaka_ramen:\n",
    "    print (\"{}. {}: {}\".format(restaurant.rank, restaurant.name, restaurant.distance))"
   ]
  },
  {
   "cell_type": "markdown",
   "metadata": {},
   "source": [
    "# Extract constraints from user query"
   ]
  },
  {
   "cell_type": "code",
   "execution_count": 83,
   "metadata": {},
   "outputs": [],
   "source": [
    "class Constraint:\n",
    "    def __init__(self):\n",
    "        self.city = None\n",
    "        self.rank = None\n",
    "        self.rating = None\n",
    "        self.station = None\n",
    "        self.status = None\n",
    "    def printC(self):\n",
    "        print (\"city:{}\".format(self.city))\n",
    "        print (\"rank:{}\".format(self.rank))\n",
    "        print (\"rating:{}\".format(self.rating))\n",
    "        print (\"station:{}\".format(self.station))\n",
    "        print (\"status:{}\".format(self.status))\n",
    "\n",
    "def find_targetWord(query):\n",
    "    city_name = ['hokkaido','aomori','akita','yamagata','iwate','miyagi','fukushima','tokyo','kanagawa',\n",
    "             'saitama','chiba','tochigi','ibaraki','gunma','aichi','gifu','shizuoka','mie','niigata',\n",
    "             'yamanashi','nagano','ishikawa','toyama','fukui','osaka','hyogo','kyoto','shiga','nara',\n",
    "             'wakayama','okayama','hiroshima','tottori','shimane','yamaguchi','kagawa','tokushima',\n",
    "             'ehime','kochi','fukuoka','saga','nagasaki','kumamoto','oita','miyazaki','kagoshima',\n",
    "             'okinawa']\n",
    "    rank = [\"top\"]\n",
    "    rating = [\"score\", \"rating\"]\n",
    "    status = [\"larger than\", \"greater than\", \"bigger than\", \"smaller than\", \"less than\", \"at least\", \"higher than\", \"lower than\"]\n",
    "    station = [\"station\"]\n",
    "    \n",
    "    constraint = Constraint()\n",
    "    query = query.lower()\n",
    "    for c in city_name:\n",
    "        if c in query:\n",
    "            constraint.city = c\n",
    "            break\n",
    "    for r in rank:\n",
    "        if r in query:\n",
    "            q = query.split()\n",
    "            constraint.rank = q[q.index(r)+1]\n",
    "            break\n",
    "    for s in rating:\n",
    "        if s in query:\n",
    "            q = query.split()\n",
    "            constraint.rating = q[q.index(s)+1]\n",
    "            break\n",
    "    for sta in status:\n",
    "        if sta in query:\n",
    "            q = query.split()\n",
    "            constraint.status = q[q.index(sta.split()[-1])+1]\n",
    "            break\n",
    "    for t in station:\n",
    "        if t in query:\n",
    "            q = query.split()\n",
    "            constraint.station = q[q.index(t)-1]\n",
    "            break\n",
    "    return constraint"
   ]
  },
  {
   "cell_type": "markdown",
   "metadata": {},
   "source": [
    "# Ask Ramen Dr. for suggestion"
   ]
  },
  {
   "cell_type": "code",
   "execution_count": 95,
   "metadata": {},
   "outputs": [],
   "source": [
    "def askRamenDoctor(query):\n",
    "    constraint = find_targetWord(query)\n",
    "    constraint.printC()\n",
    "    ramen_res = get_ranked_restaurant(constraint.city)\n",
    "    ans = []\n",
    "    flag = False\n",
    "    for restaurant in ramen_res:\n",
    "        if constraint.rank and int(restaurant.rank) >= int(constraint.rank):\n",
    "            flag = True\n",
    "        elif constraint.rank and int(restaurant.rank) < int(constraint.rank):\n",
    "            flag = False\n",
    "            continue\n",
    "        if constraint.rating and float(restaurant.rating) >= float(constraint.rating):\n",
    "            flag = True\n",
    "        elif constraint.rating and float(restaurant.rating) < float(constraint.rating):\n",
    "            flag = False\n",
    "            continue\n",
    "        if constraint.station and constraint.station in restaurant.distance:\n",
    "            flag = True\n",
    "        elif constraint.station and constraint.station not in restaurant.distance:\n",
    "            flag = False\n",
    "            continue\n",
    "        if flag == True:\n",
    "            ans.append(restaurant)\n",
    "    return ans"
   ]
  },
  {
   "cell_type": "markdown",
   "metadata": {},
   "source": [
    "# Test"
   ]
  },
  {
   "cell_type": "code",
   "execution_count": 97,
   "metadata": {},
   "outputs": [
    {
     "name": "stdout",
     "output_type": "stream",
     "text": [
      "city:osaka\n",
      "rank:None\n",
      "rating:None\n",
      "station:新福島\n",
      "status:None\n",
      "10. 烈志笑魚油 麺香房 三く: 新福島駅 137m\n",
      "87. 別邸 三く 中華㐂蕎麦 萃: 新福島駅 235m\n",
      "90. らーめん 小僧: 新福島駅 162m\n"
     ]
    }
   ],
   "source": [
    "q1 = \"Show me the ramen restaurant that is rating 3.7 in Osaka\"\n",
    "q2 = \"Give me the ramen restaurant near 新福島 station in Osaka\"\n",
    "ans =  askRamenDoctor(q2)\n",
    "for restaurant in ans:\n",
    "    print (\"{}. {}: {}\".format(restaurant.rank, restaurant.name, restaurant.distance))"
   ]
  },
  {
   "cell_type": "code",
   "execution_count": null,
   "metadata": {},
   "outputs": [],
   "source": []
  }
 ],
 "metadata": {
  "kernelspec": {
   "display_name": "Python 3",
   "language": "python",
   "name": "python3"
  },
  "language_info": {
   "codemirror_mode": {
    "name": "ipython",
    "version": 3
   },
   "file_extension": ".py",
   "mimetype": "text/x-python",
   "name": "python",
   "nbconvert_exporter": "python",
   "pygments_lexer": "ipython3",
   "version": "3.6.1"
  }
 },
 "nbformat": 4,
 "nbformat_minor": 2
}
